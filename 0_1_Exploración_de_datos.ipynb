{
  "cells": [
    {
      "cell_type": "markdown",
      "metadata": {
        "id": "view-in-github",
        "colab_type": "text"
      },
      "source": [
        "<a href=\"https://colab.research.google.com/github/Gabrielalvarez1/Inteligencia-Artificial/blob/main/0_1_Exploraci%C3%B3n_de_datos.ipynb\" target=\"_parent\"><img src=\"https://colab.research.google.com/assets/colab-badge.svg\" alt=\"Open In Colab\"/></a>"
      ]
    },
    {
      "cell_type": "markdown",
      "metadata": {
        "id": "mZnP_f6SuaSg"
      },
      "source": [
        "## 0.1 Exploración de datos"
      ]
    },
    {
      "cell_type": "code",
      "execution_count": null,
      "metadata": {
        "colab": {
          "base_uri": "https://localhost:8080/"
        },
        "id": "vzRrLe0WnDUU",
        "outputId": "14756c2c-d8c1-46a7-8cc5-e159be9358a5"
      },
      "outputs": [
        {
          "output_type": "stream",
          "name": "stdout",
          "text": [
            "Drive already mounted at /content/drive; to attempt to forcibly remount, call drive.mount(\"/content/drive\", force_remount=True).\n"
          ]
        }
      ],
      "source": [
        "from google.colab import drive\n",
        "#Se llama a drive ya que los datos se subieron a este\n",
        "drive.mount('/content/drive')"
      ]
    },
    {
      "cell_type": "code",
      "execution_count": null,
      "metadata": {
        "id": "xd2OSNQntC5N"
      },
      "outputs": [],
      "source": [
        "# Importante /content/drive/MyDrive/proyecto_kagggle_presion/train.csv ### ruta del dataset, para abrirlo, hacer acceso directo de la carpeta compartida al drive"
      ]
    },
    {
      "cell_type": "code",
      "execution_count": null,
      "metadata": {
        "id": "KJrHJvcHtrht"
      },
      "outputs": [],
      "source": [
        "#Se importan las librerias necesarias\n",
        "import pandas as pd\n",
        "import seaborn as sns\n",
        "import matplotlib.pyplot as plt\n",
        "import numpy as np\n",
        "\n",
        "from IPython.display import display\n",
        "\n",
        "import pickle\n",
        "\n",
        "%matplotlib inline"
      ]
    },
    {
      "cell_type": "code",
      "execution_count": null,
      "metadata": {
        "id": "rE2Ag-Y8fb0U"
      },
      "outputs": [],
      "source": [
        "DATA_PATH=\"/content/drive/MyDrive/Proyecto_inteligencia/train.csv\"\n",
        "df_train = pd.read_csv(DATA_PATH)\n",
        "DATA_PATH_2=\"/content/drive/MyDrive/Proyecto_inteligencia/test.csv\"\n",
        "df_test=pd.read_csv(DATA_PATH_2)"
      ]
    },
    {
      "cell_type": "code",
      "execution_count": null,
      "metadata": {
        "id": "ka6gDO0lgkIk",
        "colab": {
          "base_uri": "https://localhost:8080/"
        },
        "outputId": "84c96d66-6d89-4509-81b3-efd0c86598f2"
      },
      "outputs": [
        {
          "output_type": "stream",
          "name": "stdout",
          "text": [
            "/content/drive/MyDrive/Proyecto_inteligencia/train.csv\n"
          ]
        }
      ],
      "source": [
        "print(DATA_PATH)"
      ]
    }
  ],
  "metadata": {
    "accelerator": "GPU",
    "colab": {
      "collapsed_sections": [
        "I3Bi7MDyLXqO",
        "PZEsZ3GGTcQe",
        "e6zPgIiouRd6",
        "w09T80q1dOjB",
        "1x76iigwdX3N",
        "IpIsRzkguDFE",
        "ms1Bqh-VTjK4"
      ],
      "provenance": [],
      "include_colab_link": true
    },
    "kernelspec": {
      "display_name": "Python 3.8.3 ('base')",
      "language": "python",
      "name": "python3"
    },
    "language_info": {
      "name": "python",
      "version": "3.8.3"
    },
    "vscode": {
      "interpreter": {
        "hash": "ad2bdc8ecc057115af97d19610ffacc2b4e99fae6737bb82f5d7fb13d2f2c186"
      }
    }
  },
  "nbformat": 4,
  "nbformat_minor": 0
}